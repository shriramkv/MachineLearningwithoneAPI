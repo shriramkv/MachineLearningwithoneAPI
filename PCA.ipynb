{
 "cells": [
  {
   "cell_type": "code",
   "execution_count": 2,
   "id": "53e58f4f-c218-4c8e-8c87-ab09828df878",
   "metadata": {},
   "outputs": [
    {
     "name": "stderr",
     "output_type": "stream",
     "text": [
      "Intel(R) Extension for Scikit-learn* enabled (https://github.com/intel/scikit-learn-intelex)\n"
     ]
    }
   ],
   "source": [
    "# Here, with the PCA we load the IRIS data set, and try to reduce the dimensions. \n",
    "# Ideally, 4 is getting reduced to 2 dimensions. \n",
    "import pandas as pd \n",
    "import numpy as np\n",
    "import matplotlib.pyplot as plt\n",
    "from sklearn.decomposition import PCA\n",
    "from sklearn.preprocessing import StandardScaler\n",
    "%matplotlib inline\n",
    "import time\n",
    "# We have done all the neccessary importing, here. "
   ]
  },
  {
   "cell_type": "code",
   "execution_count": 3,
   "id": "f16dffe4-58ad-48c1-b2f0-95bf84699dca",
   "metadata": {},
   "outputs": [
    {
     "name": "stdout",
     "output_type": "stream",
     "text": [
      "0.40245604515075684\n"
     ]
    }
   ],
   "source": [
    "# using stock version\n",
    "from sklearnex import unpatch_sklearn\n",
    "unpatch_sklearn()\n",
    "from sklearn.decomposition import PCA\n",
    "# loading dataset into Pandas DataFrame\n",
    "url = \"https://archive.ics.uci.edu/ml/machine-learning-databases/iris/iris.data\"\n",
    "df = pd.read_csv(url\n",
    "                 , names=['sepal length','sepal width','petal length','petal width','target'])\n",
    "#defining features and target\n",
    "features = ['sepal length', 'sepal width', 'petal length', 'petal width']\n",
    "x = df.loc[:, features].values\n",
    "y = df.loc[:,['target']].values\n",
    "# performing feature scaling\n",
    "x = StandardScaler().fit_transform(x)\n",
    "\n",
    "#running PCA\n",
    "t1 = time.time()\n",
    "pca = PCA(n_components=2)\n",
    "principalComponents = pca.fit_transform(x)\n",
    "t2 = time.time()\n",
    "\n",
    "# storing result as dataframe\n",
    "principalDf = pd.DataFrame(data = principalComponents\n",
    "             , columns = ['principal component 1', 'principal component 2'])\n",
    "finalDf = pd.concat([principalDf, df[['target']]], axis = 1)\n",
    "print(t2-t1)"
   ]
  },
  {
   "cell_type": "code",
   "execution_count": 57,
   "id": "b606bba0-5cc5-4a52-a6bf-2fe2f93296d5",
   "metadata": {},
   "outputs": [
    {
     "name": "stdout",
     "output_type": "stream",
     "text": [
      "0.0016429424285888672\n"
     ]
    },
    {
     "name": "stderr",
     "output_type": "stream",
     "text": [
      "Intel(R) Extension for Scikit-learn* enabled (https://github.com/intel/scikit-learn-intelex)\n"
     ]
    }
   ],
   "source": [
    "from sklearnex import patch_sklearn\n",
    "patch_sklearn()\n",
    "from sklearn.decomposition import PCA\n",
    "\n",
    "# loading dataset into Pandas DataFrame\n",
    "url = \"https://archive.ics.uci.edu/ml/machine-learning-databases/iris/iris.data\"\n",
    "df = pd.read_csv(url\n",
    "                 , names=['sepal length','sepal width','petal length','petal width','target'])\n",
    "#defining features and target\n",
    "features = ['sepal length', 'sepal width', 'petal length', 'petal width']\n",
    "x = df.loc[:, features].values\n",
    "y = df.loc[:,['target']].values\n",
    "# performing feature scaling\n",
    "x = StandardScaler().fit_transform(x)\n",
    "\n",
    "#running PCA\n",
    "t1 = time.time()\n",
    "pca = PCA(n_components=2)\n",
    "principalComponents = pca.fit_transform(x)\n",
    "t2 = time.time()\n",
    "\n",
    "# storing result as dataframe\n",
    "principalDf = pd.DataFrame(data = principalComponents\n",
    "             , columns = ['principal component 1', 'principal component 2'])\n",
    "finalDf = pd.concat([principalDf, df[['target']]], axis = 1)\n",
    "print(t2-t1)"
   ]
  },
  {
   "cell_type": "code",
   "execution_count": 1,
   "id": "715b4c36-1973-4f0d-b77b-02d9ea70f1fc",
   "metadata": {},
   "outputs": [
    {
     "data": {
      "text/plain": [
       "40.0813102722168"
      ]
     },
     "execution_count": 1,
     "metadata": {},
     "output_type": "execute_result"
    }
   ],
   "source": [
    "100*(0.40245604515075684 - 0.0016429424285888672)\n",
    "# This confirms we get a 40% improvement in the performance with the intel optimized sklearn.  "
   ]
  },
  {
   "cell_type": "code",
   "execution_count": null,
   "id": "24d194d7-96b0-4efe-9bb2-a839de8eeff9",
   "metadata": {},
   "outputs": [],
   "source": []
  }
 ],
 "metadata": {
  "kernelspec": {
   "display_name": "Python 3 (Intel® oneAPI 2023.0)",
   "language": "python",
   "name": "c009-intel_distribution_of_python_3_oneapi-beta05-python"
  },
  "language_info": {
   "codemirror_mode": {
    "name": "ipython",
    "version": 3
   },
   "file_extension": ".py",
   "mimetype": "text/x-python",
   "name": "python",
   "nbconvert_exporter": "python",
   "pygments_lexer": "ipython3",
   "version": "3.9.15"
  }
 },
 "nbformat": 4,
 "nbformat_minor": 5
}
