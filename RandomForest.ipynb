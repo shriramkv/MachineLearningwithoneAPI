{
 "cells": [
  {
   "cell_type": "code",
   "execution_count": 125,
   "id": "da2241d0-85c4-43be-8831-99bb7f38693c",
   "metadata": {},
   "outputs": [],
   "source": [
    "import numpy as np\n",
    "import matplotlib.pyplot as plt\n",
    "import joblib\n",
    "import random\n",
    "import time"
   ]
  },
  {
   "cell_type": "code",
   "execution_count": 126,
   "id": "40b95a76-664c-4bf3-a981-99f5c6882e27",
   "metadata": {},
   "outputs": [],
   "source": [
    "from sklearnex import patch_sklearn, unpatch_sklearn"
   ]
  },
  {
   "cell_type": "code",
   "execution_count": 127,
   "id": "edc502ca-b454-4ece-ab03-d78cbc5d6eab",
   "metadata": {},
   "outputs": [],
   "source": [
    "unpatch_sklearn()  # this will set parameters such that the stock version of sklearn will be called\n",
    "from sklearn import datasets, svm, metrics, preprocessing\n",
    "from sklearn.ensemble import RandomForestRegressor\n",
    "from sklearn.model_selection import train_test_split"
   ]
  },
  {
   "cell_type": "code",
   "execution_count": 128,
   "id": "7244e689-3601-46e4-adc4-f99cc6929591",
   "metadata": {},
   "outputs": [],
   "source": [
    "# Loading the data\n",
    "digits = datasets.load_diabetes()\n",
    "X,Y = digits.data, digits.target\n",
    "\n",
    "# Split dataset into 80% train  and 20% test \n",
    "X_train, X_test, Y_train, Y_test = train_test_split(X, Y, test_size=0.2, shuffle=True)\n",
    "\n",
    "# normalize the input values by scaling each feature by its maximum absolute value\n",
    "X_train = preprocessing.maxabs_scale(X_train)\n",
    "X_test = preprocessing.maxabs_scale(X_test)"
   ]
  },
  {
   "cell_type": "code",
   "execution_count": 118,
   "id": "d6ad042a-8855-4e18-9987-0ce7730c370c",
   "metadata": {},
   "outputs": [
    {
     "data": {
      "text/plain": [
       "['finalized_svm_model_unpatch.sav']"
      ]
     },
     "execution_count": 118,
     "metadata": {},
     "output_type": "execute_result"
    }
   ],
   "source": [
    "# Create a classifier: a support vector classifier\n",
    "model = RandomForestRegressor()\n",
    "\n",
    "# Learn on the train subset\n",
    "fit_st = time.time()\n",
    "model.fit(X_train, Y_train)\n",
    "fit_time = fit_st-time.time()\n",
    "\n",
    "# Save the model to a file\n",
    "filename = 'finalized_svm_model_unpatch.sav'\n",
    "joblib.dump(model, filename)"
   ]
  },
  {
   "cell_type": "code",
   "execution_count": 119,
   "id": "644e7ade-04bb-467c-8fa9-a2c9e7d51708",
   "metadata": {},
   "outputs": [
    {
     "name": "stdout",
     "output_type": "stream",
     "text": [
      "0.006955862045288086\n"
     ]
    }
   ],
   "source": [
    "#loading the model\n",
    "loaded_model = joblib.load(filename)\n",
    "t1 = time.time()\n",
    "#running prediction\n",
    "Y_pred = loaded_model.predict(X_test)\n",
    "Regular_RandomForest_time = time.time()-t1\n",
    "print(Regular_RandomForest_time)"
   ]
  },
  {
   "cell_type": "code",
   "execution_count": 120,
   "id": "db9ac326-c775-44a9-a821-b9b6200a072b",
   "metadata": {},
   "outputs": [
    {
     "name": "stderr",
     "output_type": "stream",
     "text": [
      "Intel(R) Extension for Scikit-learn* enabled (https://github.com/intel/scikit-learn-intelex)\n"
     ]
    }
   ],
   "source": [
    "from sklearnex import patch_sklearn, unpatch_sklearn\n",
    "patch_sklearn()  # this will set parameters such that the optimized version of sklearn will be called\n",
    "from sklearn import datasets, svm, metrics, preprocessing\n",
    "from sklearn.ensemble import RandomForestRegressor\n",
    "from sklearn.model_selection import train_test_split"
   ]
  },
  {
   "cell_type": "code",
   "execution_count": 121,
   "id": "a04c50ae-a1bf-4ab2-8d63-eab209b12661",
   "metadata": {},
   "outputs": [],
   "source": [
    "# digits.data stores flattened ndarray.\n",
    "digits = datasets.load_diabetes()\n",
    "X,Y = digits.data, digits.target\n",
    "\n",
    "# Split dataset into 80% train and 20% test\n",
    "X_train, X_test, Y_train, Y_test = train_test_split(X, Y, test_size=0.2, shuffle=True)\n",
    "\n",
    "# normalize the input values by scaling each feature by its maximum absolute value\n",
    "X_train = preprocessing.maxabs_scale(X_train)\n",
    "X_test = preprocessing.maxabs_scale(X_test)"
   ]
  },
  {
   "cell_type": "code",
   "execution_count": 122,
   "id": "5010adf3-982f-4d17-88a2-cc8077cc32c3",
   "metadata": {},
   "outputs": [
    {
     "data": {
      "text/plain": [
       "['finalized_svm_model_unpatch.sav']"
      ]
     },
     "execution_count": 122,
     "metadata": {},
     "output_type": "execute_result"
    }
   ],
   "source": [
    "# Create a randomforest regressor\n",
    "model = RandomForestRegressor(max_depth = 20,max_leaf_nodes = 5)\n",
    "\n",
    "# Learn on the train subset\n",
    "fit_st = time.time()\n",
    "model.fit(X_train, Y_train)\n",
    "fit_time = fit_st-time.time()\n",
    "\n",
    "# Save the model to a file\n",
    "filename = 'finalized_svm_model_unpatch.sav'\n",
    "joblib.dump(model, filename)"
   ]
  },
  {
   "cell_type": "code",
   "execution_count": 123,
   "id": "dcdc92b3-30b4-49db-b52b-44afa81fc78e",
   "metadata": {},
   "outputs": [
    {
     "name": "stdout",
     "output_type": "stream",
     "text": [
      "0.000743865966796875\n"
     ]
    }
   ],
   "source": [
    "#loading model\n",
    "loaded_model = joblib.load(filename)\n",
    "t1 = time.time()\n",
    "#running prediction\n",
    "Y_pred = loaded_model.predict(X_test)\n",
    "Intel_optimized_RandomForest_time= time.time()-t1\n",
    "print(time.time()-t1)"
   ]
  },
  {
   "cell_type": "code",
   "execution_count": 124,
   "id": "2e154301-836e-4303-b0a5-e97c871d8c06",
   "metadata": {},
   "outputs": [
    {
     "name": "stdout",
     "output_type": "stream",
     "text": [
      "percentage increase in speed: 898.4599589322382 %\n"
     ]
    }
   ],
   "source": [
    "print(\"percentage increase in speed:\",100*(Regular_RandomForest_time - Intel_optimized_RandomForest_time) / Intel_optimized_RandomForest_time,'%')"
   ]
  },
  {
   "cell_type": "code",
   "execution_count": null,
   "id": "02504a3d-95b1-4cae-9c50-89532c00c45e",
   "metadata": {},
   "outputs": [],
   "source": []
  }
 ],
 "metadata": {
  "kernelspec": {
   "display_name": "Python 3 (Intel® oneAPI 2022.3)",
   "language": "python",
   "name": "c009-intel_distribution_of_python_3_oneapi-beta05-python"
  },
  "language_info": {
   "codemirror_mode": {
    "name": "ipython",
    "version": 3
   },
   "file_extension": ".py",
   "mimetype": "text/x-python",
   "name": "python",
   "nbconvert_exporter": "python",
   "pygments_lexer": "ipython3",
   "version": "3.9.13"
  }
 },
 "nbformat": 4,
 "nbformat_minor": 5
}
